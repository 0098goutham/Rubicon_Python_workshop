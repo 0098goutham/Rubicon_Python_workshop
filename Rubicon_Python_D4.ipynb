{
 "cells": [
  {
   "cell_type": "markdown",
   "id": "e4993d7a",
   "metadata": {},
   "source": [
    "# DAY 4"
   ]
  },
  {
   "cell_type": "markdown",
   "id": "1166b3bf",
   "metadata": {},
   "source": [
    "## QUESTIONS AFTERNOON"
   ]
  },
  {
   "cell_type": "code",
   "execution_count": 6,
   "id": "e19a7146",
   "metadata": {},
   "outputs": [
    {
     "name": "stdout",
     "output_type": "stream",
     "text": [
      "8\n",
      "25\n"
     ]
    }
   ],
   "source": [
    "def power_recursive(x,n):\n",
    "    if n == 0:\n",
    "        return 1\n",
    "    else:\n",
    "        return x * power_recursive(x,n-1)\n",
    "#test case\n",
    "print(power_recursive(2,3))\n",
    "print(power_recursive(5,2))"
   ]
  },
  {
   "cell_type": "code",
   "execution_count": null,
   "id": "5526f47c",
   "metadata": {},
   "outputs": [],
   "source": [
    "power_recursive = int(input())\n",
    "if n == 0:\n",
    "    return 1\n",
    "else:\n",
    "    return x * power_recursive(x,n-1)"
   ]
  },
  {
   "cell_type": "code",
   "execution_count": 11,
   "id": "a85e37d5",
   "metadata": {},
   "outputs": [
    {
     "name": "stdout",
     "output_type": "stream",
     "text": [
      "5\n",
      "4\n",
      "3\n",
      "2\n",
      "1\n"
     ]
    }
   ],
   "source": [
    "def show(a):\n",
    "    if(a==0):\n",
    "        return\n",
    "    print(a)\n",
    "    show(a-1)\n",
    "show(5)"
   ]
  },
  {
   "cell_type": "code",
   "execution_count": 16,
   "id": "1c283ab1",
   "metadata": {},
   "outputs": [
    {
     "name": "stdout",
     "output_type": "stream",
     "text": [
      "leap Year\n"
     ]
    }
   ],
   "source": [
    "def is_leap_year(a):\n",
    "    if a%4==0 and a%100 !=0:\n",
    "        print(\"leap Year\")\n",
    "    else:\n",
    "        print(\"not a leap year\")\n",
    "is_leap_year(2024)"
   ]
  },
  {
   "cell_type": "code",
   "execution_count": 18,
   "id": "efbfc236",
   "metadata": {},
   "outputs": [
    {
     "name": "stdout",
     "output_type": "stream",
     "text": [
      "30\n",
      "5\n"
     ]
    }
   ],
   "source": [
    "def second_largest(lst):\n",
    "    unique_lst = list(set(lst))\n",
    "    unique_lst.sort()\n",
    "    return unique_lst[-2]\n",
    "#test case\n",
    "print(second_largest([10,20,30,40]))\n",
    "print(second_largest([5,5,6,3,4]))"
   ]
  },
  {
   "cell_type": "code",
   "execution_count": null,
   "id": "224c59b7",
   "metadata": {},
   "outputs": [],
   "source": []
  }
 ],
 "metadata": {
  "kernelspec": {
   "display_name": "venv",
   "language": "python",
   "name": "python3"
  },
  "language_info": {
   "codemirror_mode": {
    "name": "ipython",
    "version": 3
   },
   "file_extension": ".py",
   "mimetype": "text/x-python",
   "name": "python",
   "nbconvert_exporter": "python",
   "pygments_lexer": "ipython3",
   "version": "3.12.3"
  }
 },
 "nbformat": 4,
 "nbformat_minor": 5
}
