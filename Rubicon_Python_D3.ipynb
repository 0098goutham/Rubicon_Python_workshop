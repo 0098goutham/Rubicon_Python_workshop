{
 "cells": [
  {
   "cell_type": "markdown",
   "id": "e219fe0f",
   "metadata": {},
   "source": [
    "# DAY 2"
   ]
  },
  {
   "cell_type": "markdown",
   "id": "b05f06e7",
   "metadata": {},
   "source": [
    "## New keywords"
   ]
  },
  {
   "cell_type": "code",
   "execution_count": 12,
   "id": "4d9bb147",
   "metadata": {},
   "outputs": [
    {
     "name": "stdout",
     "output_type": "stream",
     "text": [
      "['ghi', 'abcd', 'def', 1, 3, 4, 'red']\n",
      "['red', 4, 3, 1, 'def', 'abcd', 'ghi']\n"
     ]
    }
   ],
   "source": [
    "lst =[\"abcd\",\"def\",1,3,4]\n",
    "#lst.pop()\n",
    "#lst.remove('abcd')\n",
    "#print(lst)\n",
    "lst.append(\"red\")\n",
    "lst.insert(0,'ghi')\n",
    "print(lst)\n",
    "lst.reverse()\n",
    "print(lst)"
   ]
  },
  {
   "cell_type": "code",
   "execution_count": 5,
   "id": "fa5ab775",
   "metadata": {},
   "outputs": [
    {
     "name": "stdout",
     "output_type": "stream",
     "text": [
      "['apple', 'banana', 'mango']\n",
      "[]\n"
     ]
    }
   ],
   "source": [
    "lst3 = [\"apple\",\"mango\",\"banana\"]\n",
    "#lst3.sort(reverse=True) # Desending \n",
    "lst3.sort(reverse=False) # Ascending\n",
    "print(lst3)\n",
    "lst3.clear()\n",
    "print(lst3)"
   ]
  },
  {
   "cell_type": "code",
   "execution_count": 6,
   "id": "be998bb6",
   "metadata": {},
   "outputs": [
    {
     "name": "stdout",
     "output_type": "stream",
     "text": [
      "['apple', 'mango', 'banana', 'red', 'blue', 'green']\n"
     ]
    }
   ],
   "source": [
    "lst3 = [\"apple\",\"mango\",\"banana\"]\n",
    "lst4 = ['red',\"blue\",\"green\"]\n",
    "lst3.extend(lst4)\n",
    "print(lst3)"
   ]
  },
  {
   "cell_type": "markdown",
   "id": "003439d1",
   "metadata": {},
   "source": [
    "## Tuple Methods"
   ]
  },
  {
   "cell_type": "code",
   "execution_count": 8,
   "id": "c96a0367",
   "metadata": {},
   "outputs": [
    {
     "data": {
      "text/plain": [
       "(2, 3, 4)"
      ]
     },
     "execution_count": 8,
     "metadata": {},
     "output_type": "execute_result"
    }
   ],
   "source": [
    "t = (2,3,4,\"apple\")\n",
    "#t[0]\n",
    "t[0:3]"
   ]
  },
  {
   "cell_type": "code",
   "execution_count": 9,
   "id": "3432610e",
   "metadata": {},
   "outputs": [
    {
     "name": "stdout",
     "output_type": "stream",
     "text": [
      "True\n"
     ]
    }
   ],
   "source": [
    "t1 =(1,2,3,4)\n",
    "t2 = (1,2,3,4)\n",
    "print(t1==t2)"
   ]
  },
  {
   "cell_type": "code",
   "execution_count": 10,
   "id": "97718f86",
   "metadata": {},
   "outputs": [],
   "source": [
    "a = \"hello\"\n",
    "a.count('l')\n",
    "lst8 = [[2,3],[3,4],[4,5]]\n",
    "lst8[2][1]\n",
    "#dictionary\n",
    "dictr=[\"name\"]"
   ]
  },
  {
   "cell_type": "code",
   "execution_count": null,
   "id": "e6c2fddf",
   "metadata": {},
   "outputs": [],
   "source": []
  }
 ],
 "metadata": {
  "kernelspec": {
   "display_name": "venv",
   "language": "python",
   "name": "python3"
  },
  "language_info": {
   "codemirror_mode": {
    "name": "ipython",
    "version": 3
   },
   "file_extension": ".py",
   "mimetype": "text/x-python",
   "name": "python",
   "nbconvert_exporter": "python",
   "pygments_lexer": "ipython3",
   "version": "3.12.3"
  }
 },
 "nbformat": 4,
 "nbformat_minor": 5
}
